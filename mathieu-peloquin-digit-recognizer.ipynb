{
 "cells": [
  {
   "cell_type": "markdown",
   "id": "30e0945c",
   "metadata": {
    "papermill": {
     "duration": 0.00766,
     "end_time": "2023-06-19T15:23:01.263702",
     "exception": false,
     "start_time": "2023-06-19T15:23:01.256042",
     "status": "completed"
    },
    "tags": []
   },
   "source": [
    "## Imports"
   ]
  },
  {
   "cell_type": "code",
   "execution_count": 1,
   "id": "b20b628d",
   "metadata": {
    "_cell_guid": "b1076dfc-b9ad-4769-8c92-a6c4dae69d19",
    "_uuid": "8f2839f25d086af736a60e9eeb907d3b93b6e0e5",
    "execution": {
     "iopub.execute_input": "2023-06-19T15:23:01.278572Z",
     "iopub.status.busy": "2023-06-19T15:23:01.277757Z",
     "iopub.status.idle": "2023-06-19T15:23:01.291682Z",
     "shell.execute_reply": "2023-06-19T15:23:01.290283Z"
    },
    "papermill": {
     "duration": 0.02448,
     "end_time": "2023-06-19T15:23:01.294626",
     "exception": false,
     "start_time": "2023-06-19T15:23:01.270146",
     "status": "completed"
    },
    "tags": []
   },
   "outputs": [],
   "source": [
    "import numpy as np # linear algebra\n",
    "import pandas as pd # data processing, CSV file I/O (e.g. pd.read_csv)\n",
    "import os"
   ]
  },
  {
   "cell_type": "code",
   "execution_count": 2,
   "id": "47a482ce",
   "metadata": {
    "execution": {
     "iopub.execute_input": "2023-06-19T15:23:01.309771Z",
     "iopub.status.busy": "2023-06-19T15:23:01.309332Z",
     "iopub.status.idle": "2023-06-19T15:23:01.317455Z",
     "shell.execute_reply": "2023-06-19T15:23:01.315971Z"
    },
    "papermill": {
     "duration": 0.019571,
     "end_time": "2023-06-19T15:23:01.320997",
     "exception": false,
     "start_time": "2023-06-19T15:23:01.301426",
     "status": "completed"
    },
    "tags": []
   },
   "outputs": [
    {
     "name": "stdout",
     "output_type": "stream",
     "text": [
      "/kaggle/input/digit-recognizer/sample_submission.csv\n",
      "/kaggle/input/digit-recognizer/train.csv\n",
      "/kaggle/input/digit-recognizer/test.csv\n"
     ]
    }
   ],
   "source": [
    "for dirname, _, filenames in os.walk('/kaggle/input'):\n",
    "    for filename in filenames:\n",
    "        print(os.path.join(dirname, filename))\n",
    "\n",
    "# You can write up to 20GB to the current directory (/kaggle/working/) that gets preserved as output when you create a version using \"Save & Run All\" \n",
    "# You can also write temporary files to /kaggle/temp/, but they won't be saved outside of the current session"
   ]
  },
  {
   "cell_type": "markdown",
   "id": "07bc4ec7",
   "metadata": {
    "papermill": {
     "duration": 0.00601,
     "end_time": "2023-06-19T15:23:01.333541",
     "exception": false,
     "start_time": "2023-06-19T15:23:01.327531",
     "status": "completed"
    },
    "tags": []
   },
   "source": [
    "## Data set\n",
    "The training data set, (train.csv), has 785 columns. The first column, called \"label\", is the digit that was drawn by the user. The rest of the columns contain the pixel-values of the associated image.\n",
    "\n",
    "000 001 002 003 ... 026 027 \\\n",
    "028 029 030 031 ... 054 055 \\\n",
    "056 057 058 059 ... 082 083 \\\n",
    " |   |   |   |  ...  |   | \\\n",
    "728 729 730 731 ... 754 755 \\\n",
    "756 757 758 759 ... 782 783 "
   ]
  },
  {
   "cell_type": "code",
   "execution_count": 3,
   "id": "df2ec8cc",
   "metadata": {
    "execution": {
     "iopub.execute_input": "2023-06-19T15:23:01.348912Z",
     "iopub.status.busy": "2023-06-19T15:23:01.348527Z",
     "iopub.status.idle": "2023-06-19T15:23:05.655409Z",
     "shell.execute_reply": "2023-06-19T15:23:05.654403Z"
    },
    "papermill": {
     "duration": 4.317469,
     "end_time": "2023-06-19T15:23:05.657791",
     "exception": false,
     "start_time": "2023-06-19T15:23:01.340322",
     "status": "completed"
    },
    "tags": []
   },
   "outputs": [
    {
     "name": "stdout",
     "output_type": "stream",
     "text": [
      "(42000, 785)\n"
     ]
    }
   ],
   "source": [
    "#import the data \n",
    "train_file_path = '/kaggle/input/digit-recognizer/train.csv'\n",
    "df = pd.read_csv(train_file_path)\n",
    "print(df.shape)"
   ]
  },
  {
   "cell_type": "markdown",
   "id": "e742b81b",
   "metadata": {
    "papermill": {
     "duration": 0.006038,
     "end_time": "2023-06-19T15:23:05.670267",
     "exception": false,
     "start_time": "2023-06-19T15:23:05.664229",
     "status": "completed"
    },
    "tags": []
   },
   "source": [
    "## Drop the first axis and retrieve the label"
   ]
  },
  {
   "cell_type": "code",
   "execution_count": 4,
   "id": "88b1687d",
   "metadata": {
    "execution": {
     "iopub.execute_input": "2023-06-19T15:23:05.688492Z",
     "iopub.status.busy": "2023-06-19T15:23:05.686686Z",
     "iopub.status.idle": "2023-06-19T15:23:07.381098Z",
     "shell.execute_reply": "2023-06-19T15:23:07.379554Z"
    },
    "papermill": {
     "duration": 1.705273,
     "end_time": "2023-06-19T15:23:07.383994",
     "exception": false,
     "start_time": "2023-06-19T15:23:05.678721",
     "status": "completed"
    },
    "tags": []
   },
   "outputs": [],
   "source": [
    "from sklearn.model_selection import train_test_split\n",
    "\n",
    "# Separate the features (pixel columns) and the target variable (label column)\n",
    "features = df.drop('label', axis=1)\n",
    "target = df['label']"
   ]
  },
  {
   "cell_type": "markdown",
   "id": "c2181c75",
   "metadata": {
    "papermill": {
     "duration": 0.006711,
     "end_time": "2023-06-19T15:23:07.397381",
     "exception": false,
     "start_time": "2023-06-19T15:23:07.390670",
     "status": "completed"
    },
    "tags": []
   },
   "source": [
    "## Convert the labels to one-hot encoded vectors in digit recognition problem"
   ]
  },
  {
   "cell_type": "code",
   "execution_count": 5,
   "id": "130ae056",
   "metadata": {
    "execution": {
     "iopub.execute_input": "2023-06-19T15:23:07.411892Z",
     "iopub.status.busy": "2023-06-19T15:23:07.411437Z",
     "iopub.status.idle": "2023-06-19T15:23:07.432408Z",
     "shell.execute_reply": "2023-06-19T15:23:07.430787Z"
    },
    "papermill": {
     "duration": 0.031354,
     "end_time": "2023-06-19T15:23:07.435133",
     "exception": false,
     "start_time": "2023-06-19T15:23:07.403779",
     "status": "completed"
    },
    "tags": []
   },
   "outputs": [
    {
     "name": "stdout",
     "output_type": "stream",
     "text": [
      "Encoded labels shape: (42000, 10)\n"
     ]
    }
   ],
   "source": [
    "from sklearn.preprocessing import OneHotEncoder\n",
    "\n",
    "# Convert labels to one-hot encoded vectors\n",
    "encoder = OneHotEncoder(sparse_output=False)\n",
    "target_encoded = encoder.fit_transform(target.values.reshape(-1, 1))\n",
    "\n",
    "# Check the shape of the encoded labels\n",
    "print(\"Encoded labels shape:\", target_encoded.shape)"
   ]
  },
  {
   "cell_type": "markdown",
   "id": "72d0ee04",
   "metadata": {
    "papermill": {
     "duration": 0.00608,
     "end_time": "2023-06-19T15:23:07.447643",
     "exception": false,
     "start_time": "2023-06-19T15:23:07.441563",
     "status": "completed"
    },
    "tags": []
   },
   "source": [
    "## Split the data into test and train (80%-20%)"
   ]
  },
  {
   "cell_type": "code",
   "execution_count": 6,
   "id": "aec2129e",
   "metadata": {
    "execution": {
     "iopub.execute_input": "2023-06-19T15:23:07.462527Z",
     "iopub.status.busy": "2023-06-19T15:23:07.462113Z",
     "iopub.status.idle": "2023-06-19T15:23:17.980677Z",
     "shell.execute_reply": "2023-06-19T15:23:17.979152Z"
    },
    "papermill": {
     "duration": 10.529058,
     "end_time": "2023-06-19T15:23:17.983217",
     "exception": false,
     "start_time": "2023-06-19T15:23:07.454159",
     "status": "completed"
    },
    "tags": []
   },
   "outputs": [
    {
     "name": "stderr",
     "output_type": "stream",
     "text": [
      "/opt/conda/lib/python3.10/site-packages/tensorflow_io/python/ops/__init__.py:98: UserWarning: unable to load libtensorflow_io_plugins.so: unable to open file: libtensorflow_io_plugins.so, from paths: ['/opt/conda/lib/python3.10/site-packages/tensorflow_io/python/ops/libtensorflow_io_plugins.so']\n",
      "caused by: ['/opt/conda/lib/python3.10/site-packages/tensorflow_io/python/ops/libtensorflow_io_plugins.so: undefined symbol: _ZN3tsl6StatusC1EN10tensorflow5error4CodeESt17basic_string_viewIcSt11char_traitsIcEENS_14SourceLocationE']\n",
      "  warnings.warn(f\"unable to load libtensorflow_io_plugins.so: {e}\")\n",
      "/opt/conda/lib/python3.10/site-packages/tensorflow_io/python/ops/__init__.py:104: UserWarning: file system plugins are not loaded: unable to open file: libtensorflow_io.so, from paths: ['/opt/conda/lib/python3.10/site-packages/tensorflow_io/python/ops/libtensorflow_io.so']\n",
      "caused by: ['/opt/conda/lib/python3.10/site-packages/tensorflow_io/python/ops/libtensorflow_io.so: undefined symbol: _ZTVN10tensorflow13GcsFileSystemE']\n",
      "  warnings.warn(f\"file system plugins are not loaded: {e}\")\n"
     ]
    },
    {
     "name": "stdout",
     "output_type": "stream",
     "text": [
      "(42000, 28, 28, 1)\n",
      "Training features shape: (33600, 28, 28, 1)\n",
      "Testing features shape: (8400, 28, 28, 1)\n",
      "Training target shape: (33600, 10)\n",
      "Testing target shape: (8400, 10)\n"
     ]
    }
   ],
   "source": [
    "import numpy as np\n",
    "from sklearn.model_selection import train_test_split\n",
    "from tensorflow.keras.models import Sequential\n",
    "from tensorflow.keras.layers import Conv2D, MaxPooling2D, Flatten, Dense, Dropout\n",
    "\n",
    "# Reshape features into image format\n",
    "image_height = 28\n",
    "image_width = 28\n",
    "num_channels = 1  # Assuming grayscale images\n",
    "features_reshaped = features.values.reshape(-1, image_height, image_width, num_channels) / 255.0\n",
    "\n",
    "# Split the data into training and testing sets\n",
    "train_features, test_features, train_target, test_target = train_test_split(features_reshaped, target_encoded, test_size=0.2, random_state=42)\n",
    "\n",
    "print(features_reshaped.shape)\n",
    "# Check the shape of the training and testing sets\n",
    "print(\"Training features shape:\", train_features.shape)\n",
    "print(\"Testing features shape:\", test_features.shape)\n",
    "print(\"Training target shape:\", train_target.shape)\n",
    "print(\"Testing target shape:\", test_target.shape)"
   ]
  },
  {
   "cell_type": "markdown",
   "id": "32c63b27",
   "metadata": {
    "papermill": {
     "duration": 0.006297,
     "end_time": "2023-06-19T15:23:17.996312",
     "exception": false,
     "start_time": "2023-06-19T15:23:17.990015",
     "status": "completed"
    },
    "tags": []
   },
   "source": [
    "# Define the Convulutional Neural Network Architecture\n"
   ]
  },
  {
   "cell_type": "code",
   "execution_count": 7,
   "id": "a56ab856",
   "metadata": {
    "execution": {
     "iopub.execute_input": "2023-06-19T15:23:18.012125Z",
     "iopub.status.busy": "2023-06-19T15:23:18.011193Z",
     "iopub.status.idle": "2023-06-19T15:23:18.287669Z",
     "shell.execute_reply": "2023-06-19T15:23:18.286354Z"
    },
    "papermill": {
     "duration": 0.287558,
     "end_time": "2023-06-19T15:23:18.290569",
     "exception": false,
     "start_time": "2023-06-19T15:23:18.003011",
     "status": "completed"
    },
    "tags": []
   },
   "outputs": [],
   "source": [
    "model = Sequential()\n",
    "model.add(Conv2D(32, kernel_size=(3, 3), activation='relu', input_shape=(image_height, image_width, num_channels)))\n",
    "model.add(MaxPooling2D(pool_size=(2, 2)))\n",
    "model.add(Conv2D(64, kernel_size=(3, 3), activation='relu'))\n",
    "model.add(MaxPooling2D(pool_size=(2, 2)))\n",
    "model.add(Flatten())\n",
    "model.add(Dense(128, activation='relu'))\n",
    "model.add(Dropout(0.5))\n",
    "model.add(Dense(10, activation='softmax'))\n",
    "\n",
    "# Compile the model\n",
    "model.compile(loss='categorical_crossentropy', optimizer='adam', metrics=['accuracy'])"
   ]
  },
  {
   "cell_type": "markdown",
   "id": "6eb9b489",
   "metadata": {
    "papermill": {
     "duration": 0.006572,
     "end_time": "2023-06-19T15:23:18.304005",
     "exception": false,
     "start_time": "2023-06-19T15:23:18.297433",
     "status": "completed"
    },
    "tags": []
   },
   "source": [
    "## Train the model"
   ]
  },
  {
   "cell_type": "code",
   "execution_count": 8,
   "id": "73d687be",
   "metadata": {
    "execution": {
     "iopub.execute_input": "2023-06-19T15:23:18.319762Z",
     "iopub.status.busy": "2023-06-19T15:23:18.319360Z",
     "iopub.status.idle": "2023-06-19T15:23:18.325210Z",
     "shell.execute_reply": "2023-06-19T15:23:18.324042Z"
    },
    "papermill": {
     "duration": 0.017579,
     "end_time": "2023-06-19T15:23:18.328246",
     "exception": false,
     "start_time": "2023-06-19T15:23:18.310667",
     "status": "completed"
    },
    "tags": []
   },
   "outputs": [
    {
     "name": "stdout",
     "output_type": "stream",
     "text": [
      "train_features shape :  (33600, 28, 28, 1)\n",
      "train_target shape :  (33600, 10)\n"
     ]
    }
   ],
   "source": [
    "print(\"train_features shape : \", train_features.shape)\n",
    "print(\"train_target shape : \", train_target.shape)"
   ]
  },
  {
   "cell_type": "code",
   "execution_count": 9,
   "id": "64675c5e",
   "metadata": {
    "execution": {
     "iopub.execute_input": "2023-06-19T15:23:18.344040Z",
     "iopub.status.busy": "2023-06-19T15:23:18.343536Z",
     "iopub.status.idle": "2023-06-19T15:26:41.692420Z",
     "shell.execute_reply": "2023-06-19T15:26:41.691092Z"
    },
    "papermill": {
     "duration": 203.602699,
     "end_time": "2023-06-19T15:26:41.937727",
     "exception": false,
     "start_time": "2023-06-19T15:23:18.335028",
     "status": "completed"
    },
    "tags": []
   },
   "outputs": [
    {
     "name": "stdout",
     "output_type": "stream",
     "text": [
      "Epoch 1/10\n",
      "263/263 [==============================] - 18s 64ms/step - loss: 0.4128 - accuracy: 0.8703 - val_loss: 0.1013 - val_accuracy: 0.9683\n",
      "Epoch 2/10\n",
      "263/263 [==============================] - 16s 60ms/step - loss: 0.1227 - accuracy: 0.9640 - val_loss: 0.0771 - val_accuracy: 0.9745\n",
      "Epoch 3/10\n",
      "263/263 [==============================] - 16s 60ms/step - loss: 0.0944 - accuracy: 0.9716 - val_loss: 0.0564 - val_accuracy: 0.9823\n",
      "Epoch 4/10\n",
      "263/263 [==============================] - 15s 59ms/step - loss: 0.0750 - accuracy: 0.9780 - val_loss: 0.0447 - val_accuracy: 0.9852\n",
      "Epoch 5/10\n",
      "263/263 [==============================] - 16s 60ms/step - loss: 0.0630 - accuracy: 0.9815 - val_loss: 0.0444 - val_accuracy: 0.9862\n",
      "Epoch 6/10\n",
      "263/263 [==============================] - 16s 59ms/step - loss: 0.0544 - accuracy: 0.9834 - val_loss: 0.0376 - val_accuracy: 0.9880\n",
      "Epoch 7/10\n",
      "263/263 [==============================] - 16s 60ms/step - loss: 0.0476 - accuracy: 0.9853 - val_loss: 0.0342 - val_accuracy: 0.9900\n",
      "Epoch 8/10\n",
      "263/263 [==============================] - 15s 59ms/step - loss: 0.0417 - accuracy: 0.9876 - val_loss: 0.0308 - val_accuracy: 0.9898\n",
      "Epoch 9/10\n",
      "263/263 [==============================] - 16s 60ms/step - loss: 0.0357 - accuracy: 0.9884 - val_loss: 0.0357 - val_accuracy: 0.9890\n",
      "Epoch 10/10\n",
      "263/263 [==============================] - 15s 59ms/step - loss: 0.0344 - accuracy: 0.9892 - val_loss: 0.0352 - val_accuracy: 0.9890\n"
     ]
    },
    {
     "data": {
      "text/plain": [
       "<keras.callbacks.History at 0x7f335028eb90>"
      ]
     },
     "execution_count": 9,
     "metadata": {},
     "output_type": "execute_result"
    }
   ],
   "source": [
    "# Train the model\n",
    "model.fit(train_features, train_target, batch_size=128, epochs=10, validation_data=(test_features, test_target))"
   ]
  },
  {
   "cell_type": "markdown",
   "id": "b9e93bd0",
   "metadata": {
    "papermill": {
     "duration": 0.23784,
     "end_time": "2023-06-19T15:26:42.411402",
     "exception": false,
     "start_time": "2023-06-19T15:26:42.173562",
     "status": "completed"
    },
    "tags": []
   },
   "source": [
    "## Evaluation of the model\n"
   ]
  },
  {
   "cell_type": "code",
   "execution_count": 10,
   "id": "3a7227dc",
   "metadata": {
    "execution": {
     "iopub.execute_input": "2023-06-19T15:26:42.995209Z",
     "iopub.status.busy": "2023-06-19T15:26:42.994772Z",
     "iopub.status.idle": "2023-06-19T15:26:44.823041Z",
     "shell.execute_reply": "2023-06-19T15:26:44.821716Z"
    },
    "papermill": {
     "duration": 2.162868,
     "end_time": "2023-06-19T15:26:44.825384",
     "exception": false,
     "start_time": "2023-06-19T15:26:42.662516",
     "status": "completed"
    },
    "tags": []
   },
   "outputs": [
    {
     "name": "stdout",
     "output_type": "stream",
     "text": [
      "263/263 [==============================] - 2s 7ms/step - loss: 0.0352 - accuracy: 0.9890\n",
      "Test loss: 0.03522825986146927\n",
      "Test accuracy: 0.989047646522522\n"
     ]
    }
   ],
   "source": [
    "test_loss, test_accuracy = model.evaluate(test_features, test_target)\n",
    "print(\"Test loss:\", test_loss)\n",
    "print(\"Test accuracy:\", test_accuracy)"
   ]
  },
  {
   "cell_type": "code",
   "execution_count": 11,
   "id": "0ad86fe4",
   "metadata": {
    "execution": {
     "iopub.execute_input": "2023-06-19T15:26:45.312705Z",
     "iopub.status.busy": "2023-06-19T15:26:45.311442Z",
     "iopub.status.idle": "2023-06-19T15:26:58.751523Z",
     "shell.execute_reply": "2023-06-19T15:26:58.750428Z"
    },
    "papermill": {
     "duration": 13.685322,
     "end_time": "2023-06-19T15:26:58.754120",
     "exception": false,
     "start_time": "2023-06-19T15:26:45.068798",
     "status": "completed"
    },
    "tags": []
   },
   "outputs": [
    {
     "name": "stdout",
     "output_type": "stream",
     "text": [
      "875/875 [==============================] - 6s 6ms/step\n"
     ]
    }
   ],
   "source": [
    "# Import the test dataset\n",
    "test_file_path = '/kaggle/input/digit-recognizer/test.csv'\n",
    "test_df = pd.read_csv(test_file_path)\n",
    "\n",
    "# Reshape and normalize the test features\n",
    "test_features = test_df.values.reshape(-1, image_height, image_width, num_channels) / 255.0\n",
    "\n",
    "# Make predictions on the test data\n",
    "predictions = model.predict(test_features)\n",
    "\n",
    "# Get the predicted labels by selecting the index with the highest probability\n",
    "predicted_labels = np.argmax(predictions, axis=1)\n",
    "\n",
    "# Create a DataFrame with the ImageId and the predicted label\n",
    "submission_df = pd.DataFrame({'ImageId': range(1, len(predicted_labels) + 1), 'Label': predicted_labels})\n",
    "\n",
    "# Save the submission DataFrame to a CSV file\n",
    "submission_file_path = 'submission.csv'\n",
    "submission_df.to_csv(submission_file_path, index=False)"
   ]
  }
 ],
 "metadata": {
  "kernelspec": {
   "display_name": "Python 3",
   "language": "python",
   "name": "python3"
  },
  "language_info": {
   "codemirror_mode": {
    "name": "ipython",
    "version": 3
   },
   "file_extension": ".py",
   "mimetype": "text/x-python",
   "name": "python",
   "nbconvert_exporter": "python",
   "pygments_lexer": "ipython3",
   "version": "3.10.10"
  },
  "papermill": {
   "default_parameters": {},
   "duration": 256.113694,
   "end_time": "2023-06-19T15:27:01.957568",
   "environment_variables": {},
   "exception": null,
   "input_path": "__notebook__.ipynb",
   "output_path": "__notebook__.ipynb",
   "parameters": {},
   "start_time": "2023-06-19T15:22:45.843874",
   "version": "2.4.0"
  }
 },
 "nbformat": 4,
 "nbformat_minor": 5
}
